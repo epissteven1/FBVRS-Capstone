{
 "cells": [
  {
   "cell_type": "code",
   "execution_count": 89,
   "id": "1b7f13d4-f8fa-4caf-bccb-dc4139266392",
   "metadata": {
    "scrolled": true
   },
   "outputs": [],
   "source": [
    "import os\n",
    "import pandas as pd\n",
    "import numpy as np\n",
    "import librosa\n",
    "import tensorflow as tf\n",
    "from tensorflow.keras.utils import Sequence\n",
    "from sklearn.model_selection import train_test_split\n",
    "import tensorflow.keras.backend as K\n",
    "from tensorflow.keras.layers import Input, Dense, LSTM, TimeDistributed, Lambda\n",
    "from tensorflow.keras.models import Model\n",
    "\n"
   ]
  },
  {
   "cell_type": "code",
   "execution_count": 90,
   "id": "99df759e-3617-424a-8340-f2a2cf6cd986",
   "metadata": {},
   "outputs": [
    {
     "name": "stdout",
     "output_type": "stream",
     "text": [
      "Found transcripts.csv at: C:/Users/acker/PycharmProjects/FBVRS/Data Training/data/transcripts.csv\n"
     ]
    }
   ],
   "source": [
    "# Path to transcripts\n",
    "transcript_path = 'C:/Users/acker/PycharmProjects/FBVRS/Data Training/data/transcripts.csv'\n",
    "\n",
    "# Check if the file exists\n",
    "if os.path.exists(transcript_path):\n",
    "    print(f\"Found transcripts.csv at: {transcript_path}\")\n",
    "    # Load transcripts\n",
    "    transcripts_df = pd.read_csv(transcript_path)\n",
    "else:\n",
    "    print(f\"transcripts.csv not found at: {transcript_path}\")\n",
    "    # Handle the error as needed\n",
    "    raise FileNotFoundError(f\"transcripts.csv not found at: {transcript_path}\")\n",
    "\n",
    "# Ensure all text is in uppercase\n",
    "transcripts_df['text'] = transcripts_df['text'].str.upper()\n",
    "\n"
   ]
  },
  {
   "cell_type": "code",
   "execution_count": 91,
   "id": "989ef0b1-9db9-43bd-9a5a-2a4168b55e84",
   "metadata": {},
   "outputs": [],
   "source": [
    "# Split into training and validation sets\n",
    "train_df, val_df = train_test_split(transcripts_df, test_size=0.1, random_state=42)\n",
    "\n"
   ]
  },
  {
   "cell_type": "code",
   "execution_count": 96,
   "id": "7adfdb30-b281-450e-a5ab-ef46073c9ce2",
   "metadata": {},
   "outputs": [],
   "source": [
    "class AudioDataGenerator(Sequence):\n",
    "    def __init__(self, df, batch_size=32, sample_rate=16000, shuffle=True):\n",
    "        self.df = df\n",
    "        self.batch_size = batch_size\n",
    "        self.sample_rate = sample_rate\n",
    "        self.shuffle = shuffle\n",
    "        self.indices = np.arange(len(self.df))\n",
    "        self.on_epoch_end()\n",
    "\n",
    "    def __len__(self):\n",
    "        return int(np.floor(len(self.df) / self.batch_size))\n",
    "\n",
    "    def __getitem__(self, index):\n",
    "        batch_indices = self.indices[index * self.batch_size:(index + 1) * self.batch_size]\n",
    "        batch_df = self.df.iloc[batch_indices]\n",
    "\n",
    "        X, y = self.__data_generation(batch_df)\n",
    "\n",
    "        # Print batch information\n",
    "        print(f\"Batch {index}:\")\n",
    "        print(f\"X shape: {X.shape}\")\n",
    "        print(f\"y shape: {y.shape}\")\n",
    "\n",
    "        return X, y\n",
    "\n",
    "    def on_epoch_end(self):\n",
    "        if self.shuffle:\n",
    "            np.random.shuffle(self.indices)\n",
    "\n",
    "    def __data_generation(self, batch_df):\n",
    "        X = np.empty((self.batch_size, self.sample_rate, 1))\n",
    "        y = np.empty(self.batch_size, dtype=object)\n",
    "\n",
    "        for i, (file_name, text) in enumerate(zip(batch_df['filename'], batch_df['text'])):\n",
    "            audio_path = os.path.join('data/audio', file_name)\n",
    "            print(f\"Loading file: {audio_path}\")  # Print the file path\n",
    "            if os.path.exists(audio_path):\n",
    "                try:\n",
    "                    audio, _ = librosa.load(audio_path, sr=self.sample_rate)\n",
    "                    X[i,] = np.expand_dims(audio, axis=-1)\n",
    "                    y[i] = text\n",
    "                except Exception as e:\n",
    "                    print(f\"Error loading {audio_path}: {e}\")\n",
    "                    X[i,] = np.zeros((self.sample_rate, 1))  # Fill with zeros or handle appropriately\n",
    "                    y[i] = ''  # Handle empty label\n",
    "            else:\n",
    "                print(f\"File not found: {audio_path}\")\n",
    "                X[i,] = np.zeros((self.sample_rate, 1))  # Fill with zeros or handle appropriately\n",
    "                y[i] = ''  # Handle empty label\n",
    "\n",
    "        return X, y\n"
   ]
  },
  {
   "cell_type": "code",
   "execution_count": 95,
   "id": "9547ba63-06e1-49e5-acad-6ac5231286ed",
   "metadata": {},
   "outputs": [],
   "source": [
    "# Create data generators\n",
    "train_generator = AudioDataGenerator(train_df)\n",
    "val_generator = AudioDataGenerator(val_df)\n"
   ]
  },
  {
   "cell_type": "code",
   "execution_count": 66,
   "id": "f3d00c3a-81dd-4c65-a62b-9548f4828421",
   "metadata": {},
   "outputs": [],
   "source": [
    "def ctc_lambda_func(args):\n",
    "    y_pred, labels, input_length, label_length = args\n",
    "    return K.ctc_batch_cost(labels, y_pred, input_length, label_length)\n"
   ]
  },
  {
   "cell_type": "code",
   "execution_count": 73,
   "id": "efa7f295-5d91-413e-90d9-895ef76e0cf8",
   "metadata": {},
   "outputs": [],
   "source": [
    "input_data = Input(name='the_input', shape=(None, 1), dtype='float32')\n",
    "lstm_1 = LSTM(128, return_sequences=True, name='lstm_1')(input_data)\n",
    "lstm_2 = LSTM(128, return_sequences=True, name='lstm_2')(lstm_1)\n",
    "y_pred = TimeDistributed(Dense(len(characters) + 2, activation='softmax'), name='y_pred')(lstm_2)  # +2 for space and blank\n",
    "\n",
    "labels = Input(name='the_labels', shape=[None], dtype='float32')\n",
    "input_length = Input(name='input_length', shape=[1], dtype='int64')\n",
    "label_length = Input(name='label_length', shape=[1], dtype='int64')\n",
    "\n",
    "loss_out = Lambda(ctc_lambda_func, output_shape=(1,), name='ctc')([y_pred, labels, input_length, label_length])\n",
    "\n",
    "model = Model(inputs=[input_data, labels, input_length, label_length], outputs=loss_out)\n",
    "model.compile(loss={'ctc': lambda y_true, y_pred: y_pred}, optimizer='adam')"
   ]
  },
  {
   "cell_type": "code",
   "execution_count": 74,
   "id": "1ae598d6-071c-4ae2-907e-4bd9b33dd737",
   "metadata": {},
   "outputs": [
    {
     "data": {
      "text/html": [
       "<pre style=\"white-space:pre;overflow-x:auto;line-height:normal;font-family:Menlo,'DejaVu Sans Mono',consolas,'Courier New',monospace\"><span style=\"font-weight: bold\">Model: \"functional_6\"</span>\n",
       "</pre>\n"
      ],
      "text/plain": [
       "\u001b[1mModel: \"functional_6\"\u001b[0m\n"
      ]
     },
     "metadata": {},
     "output_type": "display_data"
    },
    {
     "data": {
      "text/html": [
       "<pre style=\"white-space:pre;overflow-x:auto;line-height:normal;font-family:Menlo,'DejaVu Sans Mono',consolas,'Courier New',monospace\">┏━━━━━━━━━━━━━━━━━━━━━━━━━━━━━━━┳━━━━━━━━━━━━━━━━━━━━━━━━━━━┳━━━━━━━━━━━━━━━━━┳━━━━━━━━━━━━━━━━━━━━━━━━━━━━┓\n",
       "┃<span style=\"font-weight: bold\"> Layer (type)                  </span>┃<span style=\"font-weight: bold\"> Output Shape              </span>┃<span style=\"font-weight: bold\">         Param # </span>┃<span style=\"font-weight: bold\"> Connected to               </span>┃\n",
       "┡━━━━━━━━━━━━━━━━━━━━━━━━━━━━━━━╇━━━━━━━━━━━━━━━━━━━━━━━━━━━╇━━━━━━━━━━━━━━━━━╇━━━━━━━━━━━━━━━━━━━━━━━━━━━━┩\n",
       "│ the_input (<span style=\"color: #0087ff; text-decoration-color: #0087ff\">InputLayer</span>)        │ (<span style=\"color: #00d7ff; text-decoration-color: #00d7ff\">None</span>, <span style=\"color: #00d7ff; text-decoration-color: #00d7ff\">None</span>, <span style=\"color: #00af00; text-decoration-color: #00af00\">1</span>)           │               <span style=\"color: #00af00; text-decoration-color: #00af00\">0</span> │ -                          │\n",
       "├───────────────────────────────┼───────────────────────────┼─────────────────┼────────────────────────────┤\n",
       "│ lstm_1 (<span style=\"color: #0087ff; text-decoration-color: #0087ff\">LSTM</span>)                 │ (<span style=\"color: #00d7ff; text-decoration-color: #00d7ff\">None</span>, <span style=\"color: #00d7ff; text-decoration-color: #00d7ff\">None</span>, <span style=\"color: #00af00; text-decoration-color: #00af00\">128</span>)         │          <span style=\"color: #00af00; text-decoration-color: #00af00\">66,560</span> │ the_input[<span style=\"color: #00af00; text-decoration-color: #00af00\">0</span>][<span style=\"color: #00af00; text-decoration-color: #00af00\">0</span>]            │\n",
       "├───────────────────────────────┼───────────────────────────┼─────────────────┼────────────────────────────┤\n",
       "│ lstm_2 (<span style=\"color: #0087ff; text-decoration-color: #0087ff\">LSTM</span>)                 │ (<span style=\"color: #00d7ff; text-decoration-color: #00d7ff\">None</span>, <span style=\"color: #00d7ff; text-decoration-color: #00d7ff\">None</span>, <span style=\"color: #00af00; text-decoration-color: #00af00\">128</span>)         │         <span style=\"color: #00af00; text-decoration-color: #00af00\">131,584</span> │ lstm_1[<span style=\"color: #00af00; text-decoration-color: #00af00\">0</span>][<span style=\"color: #00af00; text-decoration-color: #00af00\">0</span>]               │\n",
       "├───────────────────────────────┼───────────────────────────┼─────────────────┼────────────────────────────┤\n",
       "│ y_pred (<span style=\"color: #0087ff; text-decoration-color: #0087ff\">TimeDistributed</span>)      │ (<span style=\"color: #00d7ff; text-decoration-color: #00d7ff\">None</span>, <span style=\"color: #00d7ff; text-decoration-color: #00d7ff\">None</span>, <span style=\"color: #00af00; text-decoration-color: #00af00\">21</span>)          │           <span style=\"color: #00af00; text-decoration-color: #00af00\">2,709</span> │ lstm_2[<span style=\"color: #00af00; text-decoration-color: #00af00\">0</span>][<span style=\"color: #00af00; text-decoration-color: #00af00\">0</span>]               │\n",
       "├───────────────────────────────┼───────────────────────────┼─────────────────┼────────────────────────────┤\n",
       "│ the_labels (<span style=\"color: #0087ff; text-decoration-color: #0087ff\">InputLayer</span>)       │ (<span style=\"color: #00d7ff; text-decoration-color: #00d7ff\">None</span>, <span style=\"color: #00d7ff; text-decoration-color: #00d7ff\">None</span>)              │               <span style=\"color: #00af00; text-decoration-color: #00af00\">0</span> │ -                          │\n",
       "├───────────────────────────────┼───────────────────────────┼─────────────────┼────────────────────────────┤\n",
       "│ input_length (<span style=\"color: #0087ff; text-decoration-color: #0087ff\">InputLayer</span>)     │ (<span style=\"color: #00d7ff; text-decoration-color: #00d7ff\">None</span>, <span style=\"color: #00af00; text-decoration-color: #00af00\">1</span>)                 │               <span style=\"color: #00af00; text-decoration-color: #00af00\">0</span> │ -                          │\n",
       "├───────────────────────────────┼───────────────────────────┼─────────────────┼────────────────────────────┤\n",
       "│ label_length (<span style=\"color: #0087ff; text-decoration-color: #0087ff\">InputLayer</span>)     │ (<span style=\"color: #00d7ff; text-decoration-color: #00d7ff\">None</span>, <span style=\"color: #00af00; text-decoration-color: #00af00\">1</span>)                 │               <span style=\"color: #00af00; text-decoration-color: #00af00\">0</span> │ -                          │\n",
       "├───────────────────────────────┼───────────────────────────┼─────────────────┼────────────────────────────┤\n",
       "│ ctc (<span style=\"color: #0087ff; text-decoration-color: #0087ff\">Lambda</span>)                  │ (<span style=\"color: #00d7ff; text-decoration-color: #00d7ff\">None</span>, <span style=\"color: #00af00; text-decoration-color: #00af00\">1</span>)                 │               <span style=\"color: #00af00; text-decoration-color: #00af00\">0</span> │ y_pred[<span style=\"color: #00af00; text-decoration-color: #00af00\">0</span>][<span style=\"color: #00af00; text-decoration-color: #00af00\">0</span>],              │\n",
       "│                               │                           │                 │ the_labels[<span style=\"color: #00af00; text-decoration-color: #00af00\">0</span>][<span style=\"color: #00af00; text-decoration-color: #00af00\">0</span>],          │\n",
       "│                               │                           │                 │ input_length[<span style=\"color: #00af00; text-decoration-color: #00af00\">0</span>][<span style=\"color: #00af00; text-decoration-color: #00af00\">0</span>],        │\n",
       "│                               │                           │                 │ label_length[<span style=\"color: #00af00; text-decoration-color: #00af00\">0</span>][<span style=\"color: #00af00; text-decoration-color: #00af00\">0</span>]         │\n",
       "└───────────────────────────────┴───────────────────────────┴─────────────────┴────────────────────────────┘\n",
       "</pre>\n"
      ],
      "text/plain": [
       "┏━━━━━━━━━━━━━━━━━━━━━━━━━━━━━━━┳━━━━━━━━━━━━━━━━━━━━━━━━━━━┳━━━━━━━━━━━━━━━━━┳━━━━━━━━━━━━━━━━━━━━━━━━━━━━┓\n",
       "┃\u001b[1m \u001b[0m\u001b[1mLayer (type)                 \u001b[0m\u001b[1m \u001b[0m┃\u001b[1m \u001b[0m\u001b[1mOutput Shape             \u001b[0m\u001b[1m \u001b[0m┃\u001b[1m \u001b[0m\u001b[1m        Param #\u001b[0m\u001b[1m \u001b[0m┃\u001b[1m \u001b[0m\u001b[1mConnected to              \u001b[0m\u001b[1m \u001b[0m┃\n",
       "┡━━━━━━━━━━━━━━━━━━━━━━━━━━━━━━━╇━━━━━━━━━━━━━━━━━━━━━━━━━━━╇━━━━━━━━━━━━━━━━━╇━━━━━━━━━━━━━━━━━━━━━━━━━━━━┩\n",
       "│ the_input (\u001b[38;5;33mInputLayer\u001b[0m)        │ (\u001b[38;5;45mNone\u001b[0m, \u001b[38;5;45mNone\u001b[0m, \u001b[38;5;34m1\u001b[0m)           │               \u001b[38;5;34m0\u001b[0m │ -                          │\n",
       "├───────────────────────────────┼───────────────────────────┼─────────────────┼────────────────────────────┤\n",
       "│ lstm_1 (\u001b[38;5;33mLSTM\u001b[0m)                 │ (\u001b[38;5;45mNone\u001b[0m, \u001b[38;5;45mNone\u001b[0m, \u001b[38;5;34m128\u001b[0m)         │          \u001b[38;5;34m66,560\u001b[0m │ the_input[\u001b[38;5;34m0\u001b[0m][\u001b[38;5;34m0\u001b[0m]            │\n",
       "├───────────────────────────────┼───────────────────────────┼─────────────────┼────────────────────────────┤\n",
       "│ lstm_2 (\u001b[38;5;33mLSTM\u001b[0m)                 │ (\u001b[38;5;45mNone\u001b[0m, \u001b[38;5;45mNone\u001b[0m, \u001b[38;5;34m128\u001b[0m)         │         \u001b[38;5;34m131,584\u001b[0m │ lstm_1[\u001b[38;5;34m0\u001b[0m][\u001b[38;5;34m0\u001b[0m]               │\n",
       "├───────────────────────────────┼───────────────────────────┼─────────────────┼────────────────────────────┤\n",
       "│ y_pred (\u001b[38;5;33mTimeDistributed\u001b[0m)      │ (\u001b[38;5;45mNone\u001b[0m, \u001b[38;5;45mNone\u001b[0m, \u001b[38;5;34m21\u001b[0m)          │           \u001b[38;5;34m2,709\u001b[0m │ lstm_2[\u001b[38;5;34m0\u001b[0m][\u001b[38;5;34m0\u001b[0m]               │\n",
       "├───────────────────────────────┼───────────────────────────┼─────────────────┼────────────────────────────┤\n",
       "│ the_labels (\u001b[38;5;33mInputLayer\u001b[0m)       │ (\u001b[38;5;45mNone\u001b[0m, \u001b[38;5;45mNone\u001b[0m)              │               \u001b[38;5;34m0\u001b[0m │ -                          │\n",
       "├───────────────────────────────┼───────────────────────────┼─────────────────┼────────────────────────────┤\n",
       "│ input_length (\u001b[38;5;33mInputLayer\u001b[0m)     │ (\u001b[38;5;45mNone\u001b[0m, \u001b[38;5;34m1\u001b[0m)                 │               \u001b[38;5;34m0\u001b[0m │ -                          │\n",
       "├───────────────────────────────┼───────────────────────────┼─────────────────┼────────────────────────────┤\n",
       "│ label_length (\u001b[38;5;33mInputLayer\u001b[0m)     │ (\u001b[38;5;45mNone\u001b[0m, \u001b[38;5;34m1\u001b[0m)                 │               \u001b[38;5;34m0\u001b[0m │ -                          │\n",
       "├───────────────────────────────┼───────────────────────────┼─────────────────┼────────────────────────────┤\n",
       "│ ctc (\u001b[38;5;33mLambda\u001b[0m)                  │ (\u001b[38;5;45mNone\u001b[0m, \u001b[38;5;34m1\u001b[0m)                 │               \u001b[38;5;34m0\u001b[0m │ y_pred[\u001b[38;5;34m0\u001b[0m][\u001b[38;5;34m0\u001b[0m],              │\n",
       "│                               │                           │                 │ the_labels[\u001b[38;5;34m0\u001b[0m][\u001b[38;5;34m0\u001b[0m],          │\n",
       "│                               │                           │                 │ input_length[\u001b[38;5;34m0\u001b[0m][\u001b[38;5;34m0\u001b[0m],        │\n",
       "│                               │                           │                 │ label_length[\u001b[38;5;34m0\u001b[0m][\u001b[38;5;34m0\u001b[0m]         │\n",
       "└───────────────────────────────┴───────────────────────────┴─────────────────┴────────────────────────────┘\n"
      ]
     },
     "metadata": {},
     "output_type": "display_data"
    },
    {
     "data": {
      "text/html": [
       "<pre style=\"white-space:pre;overflow-x:auto;line-height:normal;font-family:Menlo,'DejaVu Sans Mono',consolas,'Courier New',monospace\"><span style=\"font-weight: bold\"> Total params: </span><span style=\"color: #00af00; text-decoration-color: #00af00\">200,853</span> (784.58 KB)\n",
       "</pre>\n"
      ],
      "text/plain": [
       "\u001b[1m Total params: \u001b[0m\u001b[38;5;34m200,853\u001b[0m (784.58 KB)\n"
      ]
     },
     "metadata": {},
     "output_type": "display_data"
    },
    {
     "data": {
      "text/html": [
       "<pre style=\"white-space:pre;overflow-x:auto;line-height:normal;font-family:Menlo,'DejaVu Sans Mono',consolas,'Courier New',monospace\"><span style=\"font-weight: bold\"> Trainable params: </span><span style=\"color: #00af00; text-decoration-color: #00af00\">200,853</span> (784.58 KB)\n",
       "</pre>\n"
      ],
      "text/plain": [
       "\u001b[1m Trainable params: \u001b[0m\u001b[38;5;34m200,853\u001b[0m (784.58 KB)\n"
      ]
     },
     "metadata": {},
     "output_type": "display_data"
    },
    {
     "data": {
      "text/html": [
       "<pre style=\"white-space:pre;overflow-x:auto;line-height:normal;font-family:Menlo,'DejaVu Sans Mono',consolas,'Courier New',monospace\"><span style=\"font-weight: bold\"> Non-trainable params: </span><span style=\"color: #00af00; text-decoration-color: #00af00\">0</span> (0.00 B)\n",
       "</pre>\n"
      ],
      "text/plain": [
       "\u001b[1m Non-trainable params: \u001b[0m\u001b[38;5;34m0\u001b[0m (0.00 B)\n"
      ]
     },
     "metadata": {},
     "output_type": "display_data"
    }
   ],
   "source": [
    "# Model summary\n",
    "model.summary()\n"
   ]
  },
  {
   "cell_type": "code",
   "execution_count": 75,
   "id": "69616ed8-2803-4035-a0a3-4cccd0ff0927",
   "metadata": {},
   "outputs": [],
   "source": [
    "# Define CTC loss\n",
    "def ctc_loss(y_true, y_pred):\n",
    "    input_length = tf.fill([tf.shape(y_pred)[0]], tf.shape(y_pred)[1])\n",
    "    label_length = tf.shape(y_true)[1]\n",
    "    return tf.nn.ctc_loss(y_true, y_pred, input_length, label_length, logits_time_major=False, blank_index=-1)\n"
   ]
  },
  {
   "cell_type": "code",
   "execution_count": 76,
   "id": "ca299f79-b78a-4950-a70f-976071c04694",
   "metadata": {},
   "outputs": [],
   "source": [
    "# Compile the model\n",
    "model.compile(optimizer='adam', loss=ctc_loss)\n"
   ]
  },
  {
   "cell_type": "code",
   "execution_count": 25,
   "id": "d60fa3ed-9d68-4617-abd9-6fcb6b99cf2a",
   "metadata": {},
   "outputs": [
    {
     "name": "stdout",
     "output_type": "stream",
     "text": [
      "C:\\Users\\acker\\PycharmProjects\\FBVRS\\Data Training\n"
     ]
    }
   ],
   "source": [
    "import os\n",
    "print(os.getcwd())  # Print the current working directory\n"
   ]
  },
  {
   "cell_type": "code",
   "execution_count": 77,
   "id": "2a17b568-1841-4f69-83cd-559c75d6b071",
   "metadata": {},
   "outputs": [
    {
     "name": "stdout",
     "output_type": "stream",
     "text": [
      "Loading file: C:/Users/acker/PycharmProjects/FBVRS/Data Training/data/audio\\Ba_148\n",
      "File not found: C:/Users/acker/PycharmProjects/FBVRS/Data Training/data/audio\\Ba_148\n",
      "Loading file: C:/Users/acker/PycharmProjects/FBVRS/Data Training/data/audio\\Ha_10\n",
      "File not found: C:/Users/acker/PycharmProjects/FBVRS/Data Training/data/audio\\Ha_10\n",
      "Loading file: C:/Users/acker/PycharmProjects/FBVRS/Data Training/data/audio\\A_7\n",
      "File not found: C:/Users/acker/PycharmProjects/FBVRS/Data Training/data/audio\\A_7\n",
      "Loading file: C:/Users/acker/PycharmProjects/FBVRS/Data Training/data/audio\\Ba_107\n",
      "File not found: C:/Users/acker/PycharmProjects/FBVRS/Data Training/data/audio\\Ba_107\n",
      "Loading file: C:/Users/acker/PycharmProjects/FBVRS/Data Training/data/audio\\Da_81\n",
      "File not found: C:/Users/acker/PycharmProjects/FBVRS/Data Training/data/audio\\Da_81\n",
      "Loading file: C:/Users/acker/PycharmProjects/FBVRS/Data Training/data/audio\\Ga_31\n",
      "File not found: C:/Users/acker/PycharmProjects/FBVRS/Data Training/data/audio\\Ga_31\n",
      "Loading file: C:/Users/acker/PycharmProjects/FBVRS/Data Training/data/audio\\Da_119\n",
      "File not found: C:/Users/acker/PycharmProjects/FBVRS/Data Training/data/audio\\Da_119\n",
      "Loading file: C:/Users/acker/PycharmProjects/FBVRS/Data Training/data/audio\\Ba_46\n",
      "File not found: C:/Users/acker/PycharmProjects/FBVRS/Data Training/data/audio\\Ba_46\n",
      "Loading file: C:/Users/acker/PycharmProjects/FBVRS/Data Training/data/audio\\Da_145\n",
      "File not found: C:/Users/acker/PycharmProjects/FBVRS/Data Training/data/audio\\Da_145\n",
      "Loading file: C:/Users/acker/PycharmProjects/FBVRS/Data Training/data/audio\\A_85\n",
      "File not found: C:/Users/acker/PycharmProjects/FBVRS/Data Training/data/audio\\A_85\n",
      "Loading file: C:/Users/acker/PycharmProjects/FBVRS/Data Training/data/audio\\A_133\n",
      "File not found: C:/Users/acker/PycharmProjects/FBVRS/Data Training/data/audio\\A_133\n",
      "Loading file: C:/Users/acker/PycharmProjects/FBVRS/Data Training/data/audio\\Ha_70\n",
      "File not found: C:/Users/acker/PycharmProjects/FBVRS/Data Training/data/audio\\Ha_70\n",
      "Loading file: C:/Users/acker/PycharmProjects/FBVRS/Data Training/data/audio\\A_36\n",
      "File not found: C:/Users/acker/PycharmProjects/FBVRS/Data Training/data/audio\\A_36\n",
      "Loading file: C:/Users/acker/PycharmProjects/FBVRS/Data Training/data/audio\\E_134\n",
      "File not found: C:/Users/acker/PycharmProjects/FBVRS/Data Training/data/audio\\E_134\n",
      "Loading file: C:/Users/acker/PycharmProjects/FBVRS/Data Training/data/audio\\Ha_109\n",
      "File not found: C:/Users/acker/PycharmProjects/FBVRS/Data Training/data/audio\\Ha_109\n",
      "Loading file: C:/Users/acker/PycharmProjects/FBVRS/Data Training/data/audio\\E_15\n",
      "File not found: C:/Users/acker/PycharmProjects/FBVRS/Data Training/data/audio\\E_15\n",
      "Loading file: C:/Users/acker/PycharmProjects/FBVRS/Data Training/data/audio\\Ba_36\n",
      "File not found: C:/Users/acker/PycharmProjects/FBVRS/Data Training/data/audio\\Ba_36\n",
      "Loading file: C:/Users/acker/PycharmProjects/FBVRS/Data Training/data/audio\\A_42\n",
      "File not found: C:/Users/acker/PycharmProjects/FBVRS/Data Training/data/audio\\A_42\n",
      "Loading file: C:/Users/acker/PycharmProjects/FBVRS/Data Training/data/audio\\Ga_77\n",
      "File not found: C:/Users/acker/PycharmProjects/FBVRS/Data Training/data/audio\\Ga_77\n",
      "Loading file: C:/Users/acker/PycharmProjects/FBVRS/Data Training/data/audio\\Ha_143\n",
      "File not found: C:/Users/acker/PycharmProjects/FBVRS/Data Training/data/audio\\Ha_143\n",
      "Loading file: C:/Users/acker/PycharmProjects/FBVRS/Data Training/data/audio\\Ha_104\n",
      "File not found: C:/Users/acker/PycharmProjects/FBVRS/Data Training/data/audio\\Ha_104\n",
      "Loading file: C:/Users/acker/PycharmProjects/FBVRS/Data Training/data/audio\\Ba_95\n",
      "File not found: C:/Users/acker/PycharmProjects/FBVRS/Data Training/data/audio\\Ba_95\n",
      "Loading file: C:/Users/acker/PycharmProjects/FBVRS/Data Training/data/audio\\A_99\n",
      "File not found: C:/Users/acker/PycharmProjects/FBVRS/Data Training/data/audio\\A_99\n",
      "Loading file: C:/Users/acker/PycharmProjects/FBVRS/Data Training/data/audio\\Ha_28\n",
      "File not found: C:/Users/acker/PycharmProjects/FBVRS/Data Training/data/audio\\Ha_28\n",
      "Loading file: C:/Users/acker/PycharmProjects/FBVRS/Data Training/data/audio\\Ba_98\n",
      "File not found: C:/Users/acker/PycharmProjects/FBVRS/Data Training/data/audio\\Ba_98\n",
      "Loading file: C:/Users/acker/PycharmProjects/FBVRS/Data Training/data/audio\\E_36\n",
      "File not found: C:/Users/acker/PycharmProjects/FBVRS/Data Training/data/audio\\E_36\n",
      "Loading file: C:/Users/acker/PycharmProjects/FBVRS/Data Training/data/audio\\Ha_122\n",
      "File not found: C:/Users/acker/PycharmProjects/FBVRS/Data Training/data/audio\\Ha_122\n",
      "Loading file: C:/Users/acker/PycharmProjects/FBVRS/Data Training/data/audio\\E_85\n",
      "File not found: C:/Users/acker/PycharmProjects/FBVRS/Data Training/data/audio\\E_85\n",
      "Loading file: C:/Users/acker/PycharmProjects/FBVRS/Data Training/data/audio\\Ha_84\n",
      "File not found: C:/Users/acker/PycharmProjects/FBVRS/Data Training/data/audio\\Ha_84\n",
      "Loading file: C:/Users/acker/PycharmProjects/FBVRS/Data Training/data/audio\\Da_66\n",
      "File not found: C:/Users/acker/PycharmProjects/FBVRS/Data Training/data/audio\\Da_66\n",
      "Loading file: C:/Users/acker/PycharmProjects/FBVRS/Data Training/data/audio\\Ga_116\n",
      "File not found: C:/Users/acker/PycharmProjects/FBVRS/Data Training/data/audio\\Ga_116\n",
      "Loading file: C:/Users/acker/PycharmProjects/FBVRS/Data Training/data/audio\\Ga_134\n",
      "File not found: C:/Users/acker/PycharmProjects/FBVRS/Data Training/data/audio\\Ga_134\n",
      "Loading file: C:/Users/acker/PycharmProjects/FBVRS/Data Training/data/audio\\Ha_1\n",
      "File not found: C:/Users/acker/PycharmProjects/FBVRS/Data Training/data/audio\\Ha_1\n",
      "Loading file: C:/Users/acker/PycharmProjects/FBVRS/Data Training/data/audio\\E_110\n",
      "File not found: C:/Users/acker/PycharmProjects/FBVRS/Data Training/data/audio\\E_110\n",
      "Loading file: C:/Users/acker/PycharmProjects/FBVRS/Data Training/data/audio\\Ga_24\n",
      "File not found: C:/Users/acker/PycharmProjects/FBVRS/Data Training/data/audio\\Ga_24\n",
      "Loading file: C:/Users/acker/PycharmProjects/FBVRS/Data Training/data/audio\\Da_11\n",
      "File not found: C:/Users/acker/PycharmProjects/FBVRS/Data Training/data/audio\\Da_11\n",
      "Loading file: C:/Users/acker/PycharmProjects/FBVRS/Data Training/data/audio\\A_140\n",
      "File not found: C:/Users/acker/PycharmProjects/FBVRS/Data Training/data/audio\\A_140\n",
      "Loading file: C:/Users/acker/PycharmProjects/FBVRS/Data Training/data/audio\\Ga_51\n",
      "File not found: C:/Users/acker/PycharmProjects/FBVRS/Data Training/data/audio\\Ga_51\n",
      "Loading file: C:/Users/acker/PycharmProjects/FBVRS/Data Training/data/audio\\E_73\n",
      "File not found: C:/Users/acker/PycharmProjects/FBVRS/Data Training/data/audio\\E_73\n",
      "Loading file: C:/Users/acker/PycharmProjects/FBVRS/Data Training/data/audio\\E_43\n",
      "File not found: C:/Users/acker/PycharmProjects/FBVRS/Data Training/data/audio\\E_43\n",
      "Loading file: C:/Users/acker/PycharmProjects/FBVRS/Data Training/data/audio\\Ha_51\n",
      "File not found: C:/Users/acker/PycharmProjects/FBVRS/Data Training/data/audio\\Ha_51\n",
      "Loading file: C:/Users/acker/PycharmProjects/FBVRS/Data Training/data/audio\\Ga_80\n",
      "File not found: C:/Users/acker/PycharmProjects/FBVRS/Data Training/data/audio\\Ga_80\n",
      "Loading file: C:/Users/acker/PycharmProjects/FBVRS/Data Training/data/audio\\E_140\n",
      "File not found: C:/Users/acker/PycharmProjects/FBVRS/Data Training/data/audio\\E_140\n",
      "Loading file: C:/Users/acker/PycharmProjects/FBVRS/Data Training/data/audio\\Ha_53\n",
      "File not found: C:/Users/acker/PycharmProjects/FBVRS/Data Training/data/audio\\Ha_53\n",
      "Loading file: C:/Users/acker/PycharmProjects/FBVRS/Data Training/data/audio\\A_13\n",
      "File not found: C:/Users/acker/PycharmProjects/FBVRS/Data Training/data/audio\\A_13\n",
      "Loading file: C:/Users/acker/PycharmProjects/FBVRS/Data Training/data/audio\\Da_150\n",
      "File not found: C:/Users/acker/PycharmProjects/FBVRS/Data Training/data/audio\\Da_150\n",
      "Loading file: C:/Users/acker/PycharmProjects/FBVRS/Data Training/data/audio\\Ga_142\n",
      "File not found: C:/Users/acker/PycharmProjects/FBVRS/Data Training/data/audio\\Ga_142\n",
      "Loading file: C:/Users/acker/PycharmProjects/FBVRS/Data Training/data/audio\\Da_28\n",
      "File not found: C:/Users/acker/PycharmProjects/FBVRS/Data Training/data/audio\\Da_28\n",
      "Loading file: C:/Users/acker/PycharmProjects/FBVRS/Data Training/data/audio\\A_131\n",
      "File not found: C:/Users/acker/PycharmProjects/FBVRS/Data Training/data/audio\\A_131\n",
      "Loading file: C:/Users/acker/PycharmProjects/FBVRS/Data Training/data/audio\\A_144\n",
      "File not found: C:/Users/acker/PycharmProjects/FBVRS/Data Training/data/audio\\A_144\n",
      "Loading file: C:/Users/acker/PycharmProjects/FBVRS/Data Training/data/audio\\Da_117\n",
      "File not found: C:/Users/acker/PycharmProjects/FBVRS/Data Training/data/audio\\Da_117\n",
      "Loading file: C:/Users/acker/PycharmProjects/FBVRS/Data Training/data/audio\\Ba_81\n",
      "File not found: C:/Users/acker/PycharmProjects/FBVRS/Data Training/data/audio\\Ba_81\n",
      "Loading file: C:/Users/acker/PycharmProjects/FBVRS/Data Training/data/audio\\Ga_138\n",
      "File not found: C:/Users/acker/PycharmProjects/FBVRS/Data Training/data/audio\\Ga_138\n",
      "Loading file: C:/Users/acker/PycharmProjects/FBVRS/Data Training/data/audio\\A_14\n",
      "File not found: C:/Users/acker/PycharmProjects/FBVRS/Data Training/data/audio\\A_14\n",
      "Loading file: C:/Users/acker/PycharmProjects/FBVRS/Data Training/data/audio\\Ba_145\n",
      "File not found: C:/Users/acker/PycharmProjects/FBVRS/Data Training/data/audio\\Ba_145\n",
      "Loading file: C:/Users/acker/PycharmProjects/FBVRS/Data Training/data/audio\\A_92\n",
      "File not found: C:/Users/acker/PycharmProjects/FBVRS/Data Training/data/audio\\A_92\n",
      "Loading file: C:/Users/acker/PycharmProjects/FBVRS/Data Training/data/audio\\E_53\n",
      "File not found: C:/Users/acker/PycharmProjects/FBVRS/Data Training/data/audio\\E_53\n",
      "Loading file: C:/Users/acker/PycharmProjects/FBVRS/Data Training/data/audio\\Ba_2\n",
      "File not found: C:/Users/acker/PycharmProjects/FBVRS/Data Training/data/audio\\Ba_2\n",
      "Loading file: C:/Users/acker/PycharmProjects/FBVRS/Data Training/data/audio\\Ba_68\n",
      "File not found: C:/Users/acker/PycharmProjects/FBVRS/Data Training/data/audio\\Ba_68\n",
      "Loading file: C:/Users/acker/PycharmProjects/FBVRS/Data Training/data/audio\\Ha_131\n",
      "File not found: C:/Users/acker/PycharmProjects/FBVRS/Data Training/data/audio\\Ha_131\n",
      "Loading file: C:/Users/acker/PycharmProjects/FBVRS/Data Training/data/audio\\A_143\n",
      "File not found: C:/Users/acker/PycharmProjects/FBVRS/Data Training/data/audio\\A_143\n",
      "Loading file: C:/Users/acker/PycharmProjects/FBVRS/Data Training/data/audio\\A_18\n",
      "File not found: C:/Users/acker/PycharmProjects/FBVRS/Data Training/data/audio\\A_18\n",
      "Loading file: C:/Users/acker/PycharmProjects/FBVRS/Data Training/data/audio\\A_120\n",
      "File not found: C:/Users/acker/PycharmProjects/FBVRS/Data Training/data/audio\\A_120\n",
      "Loading file: C:/Users/acker/PycharmProjects/FBVRS/Data Training/data/audio\\Ba_35\n",
      "File not found: C:/Users/acker/PycharmProjects/FBVRS/Data Training/data/audio\\Ba_35\n",
      "Epoch 1/50\n"
     ]
    },
    {
     "ename": "ValueError",
     "evalue": "Layer \"functional_6\" expects 4 input(s), but it received 1 input tensors. Inputs received: [<tf.Tensor 'data:0' shape=(None, 16000, 1) dtype=float64>]",
     "output_type": "error",
     "traceback": [
      "\u001b[1;31m---------------------------------------------------------------------------\u001b[0m",
      "\u001b[1;31mValueError\u001b[0m                                Traceback (most recent call last)",
      "Cell \u001b[1;32mIn[77], line 2\u001b[0m\n\u001b[0;32m      1\u001b[0m \u001b[38;5;66;03m# Train the model\u001b[39;00m\n\u001b[1;32m----> 2\u001b[0m history \u001b[38;5;241m=\u001b[39m \u001b[43mmodel\u001b[49m\u001b[38;5;241;43m.\u001b[39;49m\u001b[43mfit\u001b[49m\u001b[43m(\u001b[49m\n\u001b[0;32m      3\u001b[0m \u001b[43m    \u001b[49m\u001b[43mtrain_generator\u001b[49m\u001b[43m,\u001b[49m\n\u001b[0;32m      4\u001b[0m \u001b[43m    \u001b[49m\u001b[43mvalidation_data\u001b[49m\u001b[38;5;241;43m=\u001b[39;49m\u001b[43mval_generator\u001b[49m\u001b[43m,\u001b[49m\n\u001b[0;32m      5\u001b[0m \u001b[43m    \u001b[49m\u001b[43mepochs\u001b[49m\u001b[38;5;241;43m=\u001b[39;49m\u001b[38;5;241;43m50\u001b[39;49m\u001b[43m,\u001b[49m\n\u001b[0;32m      6\u001b[0m \u001b[43m    \u001b[49m\u001b[43mcallbacks\u001b[49m\u001b[38;5;241;43m=\u001b[39;49m\u001b[43m[\u001b[49m\u001b[43mtf\u001b[49m\u001b[38;5;241;43m.\u001b[39;49m\u001b[43mkeras\u001b[49m\u001b[38;5;241;43m.\u001b[39;49m\u001b[43mcallbacks\u001b[49m\u001b[38;5;241;43m.\u001b[39;49m\u001b[43mEarlyStopping\u001b[49m\u001b[43m(\u001b[49m\u001b[43mmonitor\u001b[49m\u001b[38;5;241;43m=\u001b[39;49m\u001b[38;5;124;43m'\u001b[39;49m\u001b[38;5;124;43mval_loss\u001b[39;49m\u001b[38;5;124;43m'\u001b[39;49m\u001b[43m,\u001b[49m\u001b[43m \u001b[49m\u001b[43mpatience\u001b[49m\u001b[38;5;241;43m=\u001b[39;49m\u001b[38;5;241;43m5\u001b[39;49m\u001b[43m,\u001b[49m\u001b[43m \u001b[49m\u001b[43mrestore_best_weights\u001b[49m\u001b[38;5;241;43m=\u001b[39;49m\u001b[38;5;28;43;01mTrue\u001b[39;49;00m\u001b[43m)\u001b[49m\u001b[43m]\u001b[49m\n\u001b[0;32m      7\u001b[0m \u001b[43m)\u001b[49m\n",
      "File \u001b[1;32m~\\AppData\\Local\\Programs\\Python\\Python310\\lib\\site-packages\\keras\\src\\utils\\traceback_utils.py:122\u001b[0m, in \u001b[0;36mfilter_traceback.<locals>.error_handler\u001b[1;34m(*args, **kwargs)\u001b[0m\n\u001b[0;32m    119\u001b[0m     filtered_tb \u001b[38;5;241m=\u001b[39m _process_traceback_frames(e\u001b[38;5;241m.\u001b[39m__traceback__)\n\u001b[0;32m    120\u001b[0m     \u001b[38;5;66;03m# To get the full stack trace, call:\u001b[39;00m\n\u001b[0;32m    121\u001b[0m     \u001b[38;5;66;03m# `keras.config.disable_traceback_filtering()`\u001b[39;00m\n\u001b[1;32m--> 122\u001b[0m     \u001b[38;5;28;01mraise\u001b[39;00m e\u001b[38;5;241m.\u001b[39mwith_traceback(filtered_tb) \u001b[38;5;28;01mfrom\u001b[39;00m \u001b[38;5;28;01mNone\u001b[39;00m\n\u001b[0;32m    123\u001b[0m \u001b[38;5;28;01mfinally\u001b[39;00m:\n\u001b[0;32m    124\u001b[0m     \u001b[38;5;28;01mdel\u001b[39;00m filtered_tb\n",
      "File \u001b[1;32m~\\AppData\\Local\\Programs\\Python\\Python310\\lib\\site-packages\\keras\\src\\layers\\input_spec.py:160\u001b[0m, in \u001b[0;36massert_input_compatibility\u001b[1;34m(input_spec, inputs, layer_name)\u001b[0m\n\u001b[0;32m    158\u001b[0m inputs \u001b[38;5;241m=\u001b[39m tree\u001b[38;5;241m.\u001b[39mflatten(inputs)\n\u001b[0;32m    159\u001b[0m \u001b[38;5;28;01mif\u001b[39;00m \u001b[38;5;28mlen\u001b[39m(inputs) \u001b[38;5;241m!=\u001b[39m \u001b[38;5;28mlen\u001b[39m(input_spec):\n\u001b[1;32m--> 160\u001b[0m     \u001b[38;5;28;01mraise\u001b[39;00m \u001b[38;5;167;01mValueError\u001b[39;00m(\n\u001b[0;32m    161\u001b[0m         \u001b[38;5;124mf\u001b[39m\u001b[38;5;124m'\u001b[39m\u001b[38;5;124mLayer \u001b[39m\u001b[38;5;124m\"\u001b[39m\u001b[38;5;132;01m{\u001b[39;00mlayer_name\u001b[38;5;132;01m}\u001b[39;00m\u001b[38;5;124m\"\u001b[39m\u001b[38;5;124m expects \u001b[39m\u001b[38;5;132;01m{\u001b[39;00m\u001b[38;5;28mlen\u001b[39m(input_spec)\u001b[38;5;132;01m}\u001b[39;00m\u001b[38;5;124m input(s),\u001b[39m\u001b[38;5;124m'\u001b[39m\n\u001b[0;32m    162\u001b[0m         \u001b[38;5;124mf\u001b[39m\u001b[38;5;124m\"\u001b[39m\u001b[38;5;124m but it received \u001b[39m\u001b[38;5;132;01m{\u001b[39;00m\u001b[38;5;28mlen\u001b[39m(inputs)\u001b[38;5;132;01m}\u001b[39;00m\u001b[38;5;124m input tensors. \u001b[39m\u001b[38;5;124m\"\u001b[39m\n\u001b[0;32m    163\u001b[0m         \u001b[38;5;124mf\u001b[39m\u001b[38;5;124m\"\u001b[39m\u001b[38;5;124mInputs received: \u001b[39m\u001b[38;5;132;01m{\u001b[39;00minputs\u001b[38;5;132;01m}\u001b[39;00m\u001b[38;5;124m\"\u001b[39m\n\u001b[0;32m    164\u001b[0m     )\n\u001b[0;32m    165\u001b[0m \u001b[38;5;28;01mfor\u001b[39;00m input_index, (x, spec) \u001b[38;5;129;01min\u001b[39;00m \u001b[38;5;28menumerate\u001b[39m(\u001b[38;5;28mzip\u001b[39m(inputs, input_spec)):\n\u001b[0;32m    166\u001b[0m     \u001b[38;5;28;01mif\u001b[39;00m spec \u001b[38;5;129;01mis\u001b[39;00m \u001b[38;5;28;01mNone\u001b[39;00m:\n",
      "\u001b[1;31mValueError\u001b[0m: Layer \"functional_6\" expects 4 input(s), but it received 1 input tensors. Inputs received: [<tf.Tensor 'data:0' shape=(None, 16000, 1) dtype=float64>]"
     ]
    }
   ],
   "source": [
    "# Train the model\n",
    "history = model.fit(\n",
    "    train_generator,\n",
    "    validation_data=val_generator,\n",
    "    epochs=50,\n",
    "    callbacks=[tf.keras.callbacks.EarlyStopping(monitor='val_loss', patience=5, restore_best_weights=True)]\n",
    ")\n"
   ]
  },
  {
   "cell_type": "code",
   "execution_count": null,
   "id": "f1367603-96cd-4fc5-b3c2-0e71efbe92d6",
   "metadata": {},
   "outputs": [],
   "source": [
    "# Save the trained model\n",
    "model.save('fine_tuned_model.h5')\n"
   ]
  }
 ],
 "metadata": {
  "kernelspec": {
   "display_name": "Python 3 (ipykernel)",
   "language": "python",
   "name": "python3"
  },
  "language_info": {
   "codemirror_mode": {
    "name": "ipython",
    "version": 3
   },
   "file_extension": ".py",
   "mimetype": "text/x-python",
   "name": "python",
   "nbconvert_exporter": "python",
   "pygments_lexer": "ipython3",
   "version": "3.10.0"
  }
 },
 "nbformat": 4,
 "nbformat_minor": 5
}
